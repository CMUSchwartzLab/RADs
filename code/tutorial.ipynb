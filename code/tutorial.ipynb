{
 "cells": [
  {
   "cell_type": "code",
   "execution_count": 1,
   "id": "577165ed",
   "metadata": {},
   "outputs": [],
   "source": [
    "import pickle\n",
    "import sys\n",
    "import os \n",
    "import pandas as pd\n",
    "import  numpy as np\n",
    "import matplotlib.pyplot as plt\n",
    "import seaborn as sns\n",
    "import re\n",
    "import itertools\n",
    "import utils\n",
    "from sklearn.metrics import r2_score\n",
    "import sRAD_v3 as sRAD\n",
    "import time\n"
   ]
  },
  {
   "cell_type": "code",
   "execution_count": 2,
   "id": "b5819371",
   "metadata": {},
   "outputs": [],
   "source": [
    "#####load the simulated data\n",
    "\n",
    "#0. define the variable:\n",
    "b = 0.0 # noise level on bulk data\n",
    "s = 0.0 # noise level on singe cell data\n",
    "n = 1   # bulk sample number\n",
    "lam = 0.1   # penalty value\n",
    "\n",
    "with open('../simulated_data/0.0_0.0_1.pickle', 'rb') as handle:\n",
    "                data = pickle.load(handle)\n",
    "result_dir = '../results'\n",
    "if not os.path.exists(result_dir):\n",
    "    os.makedirs(result_dir)\n",
    "   \n",
    "# 1. get the true data\n",
    "B = data['B']\n",
    "C = data['trueC']\n",
    "S = data['S']\n",
    "F = data['trueF']\n",
    "mu = data['mu']\n",
    "K = C.shape[1]\n",
    "k = S.shape[1]\n",
    "y = K - k\n",
    "m = B.shape[0]\n",
    "\n",
    "# 2. initialize variables:\n",
    "C1_init = S\n",
    "C2_init = np.zeros((m, y))\n",
    "C_init = np.hstack((C1_init, C2_init))\n",
    "F_init = sRAD._quad_prog_BCmu2F(B, C_init) # solve F as initialization\n",
    "mu_init = sRAD._linear_reg_mu(C1_init, S)"
   ]
  },
  {
   "cell_type": "code",
   "execution_count": 3,
   "id": "488bb33d",
   "metadata": {},
   "outputs": [
    {
     "name": "stdout",
     "output_type": "stream",
     "text": [
      "Iteration: 1000, Last Error: 0.04236569154897653 \n",
      "--------------------------------\n",
      "Finished the deconvolution in 19031.96 s\n"
     ]
    }
   ],
   "source": [
    "# 3. solve the deconvolution and save the result\n",
    "# this may take a while, get a cup of coffee...\n",
    "START_TIME = time.time()\n",
    "inferC, inferF, infermu, list_err = sRAD._rna_coordescent(B, C1_init, C2_init, F_init, S, mu_init, lam)\n",
    "\n",
    "results = {'inferC': inferC, 'inferF': inferF, 'infermu':infermu, 'k':k, \n",
    "           'listErr':list_err,}\n",
    "\n",
    "END_TIME = time.time()\n",
    "print('Finished the deconvolution in %0.2f s' % (END_TIME-START_TIME))"
   ]
  },
  {
   "cell_type": "code",
   "execution_count": 4,
   "id": "f669890f",
   "metadata": {},
   "outputs": [],
   "source": [
    "## save the results\n",
    "with open('../result_%s_%s_%s_%s.pickle' % (b, s, n, lam), 'wb') as handle:\n",
    "    pickle.dump(results, handle, protocol=pickle.HIGHEST_PROTOCOL)\n",
    "handle.close()\n"
   ]
  },
  {
   "cell_type": "code",
   "execution_count": null,
   "id": "05b304d9",
   "metadata": {},
   "outputs": [],
   "source": []
  }
 ],
 "metadata": {
  "interpreter": {
   "hash": "e746eafcc9c3755c618fd70b7289e2c77c6dfaa86036ed9f41128bb78d1ac1c4"
  },
  "kernelspec": {
   "display_name": "Python 3 (ipykernel)",
   "language": "python",
   "name": "python3"
  },
  "language_info": {
   "codemirror_mode": {
    "name": "ipython",
    "version": 3
   },
   "file_extension": ".py",
   "mimetype": "text/x-python",
   "name": "python",
   "nbconvert_exporter": "python",
   "pygments_lexer": "ipython3",
   "version": "3.8.12"
  }
 },
 "nbformat": 4,
 "nbformat_minor": 5
}
